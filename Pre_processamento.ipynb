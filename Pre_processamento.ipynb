{
 "cells": [
  {
   "cell_type": "markdown",
   "id": "1c54be23-70ee-47b5-be8b-90a9c9341ad9",
   "metadata": {},
   "source": [
    "# PRE-PROCESSAMENTO DE DADOS"
   ]
  },
  {
   "cell_type": "markdown",
   "id": "247821a4-93c4-403d-a66c-e88a0ba085b5",
   "metadata": {},
   "source": [
    "\n",
    "<h2>Diagnóstico de Câncer de Mama em Wisconsin (WDBC)<h2> "
   ]
  },
  {
   "cell_type": "markdown",
   "id": "9b42088b-801f-4540-8acf-ee0d6f2da85a",
   "metadata": {},
   "source": [
    "- campo preditivo 2, diagnóstico: B = benigno, M = maligno\n",
    "- os conjuntos são linearmente separáveis usando todos os 30 recursos de entrada\n",
    "- melhor precisão preditiva obtida usando um plano de separação\n",
    "no espaço 3-D de Pior Área, Pior Suavidade e\n",
    "Textura média. Precisão estimada de 97,5% usando repetições\n",
    "Validações cruzadas de 10 vezes. O classificador foi corretamente\n",
    "diagnosticou 176 novos pacientes consecutivos em novembro\n",
    "1995."
   ]
  },
  {
   "cell_type": "markdown",
   "id": "d1aec0bd-d93d-453f-84eb-e8758a347cf3",
   "metadata": {},
   "source": [
    "Dez características de valor real são calculadas para cada núcleo celular:\n",
    "\n",
    "- a) raio (média das distâncias do centro aos pontos do perímetro)\n",
    "- b) textura (desvio padrão dos valores da escala de cinza)\n",
    "- c) perímetro\n",
    "- d) área\n",
    "- e) suavidade (variação local nos comprimentos dos raios)\n",
    "- f) compacidade (perímetro ^ 2 / área - 1,0)\n",
    "- g) concavidade (gravidade das porções côncavas do contorno)\n",
    "- h) pontos côncavos (número de porções côncavas do contorno)\n",
    "- i) simetria\n",
    "- j) dimensão fractal (\"aproximação da linha costeira\" - 1)"
   ]
  },
  {
   "cell_type": "code",
   "execution_count": 1,
   "id": "79ee6920-b277-4c62-b0ef-2260e2f6e440",
   "metadata": {},
   "outputs": [],
   "source": [
    "def substituir_strings_por_numeros(linha, mapeamento):\n",
    "    \"\"\"\n",
    "    Substitui as strings por números em uma\n",
    "    linha de acordo com o mapeamento fornecido.\n",
    "    \"\"\"\n",
    "    for chave, valor in mapeamento.items():\n",
    "        linha = linha.replace(chave, valor)\n",
    "    return linha\n",
    "\n",
    "def converter_arquivo(arquivo_entrada, arquivo_saida, mapeamento):\n",
    "    \"\"\"\n",
    "    Converte o arquivo de entrada substituindo as \n",
    "    strings por números de acordo com o mapeamento fornecido.\n",
    "    \"\"\"\n",
    "    with open(arquivo_entrada, 'r') as arquivo_entrada, open(arquivo_saida, 'w') as arquivo_saida:\n",
    "        for linha in arquivo_entrada:\n",
    "            linha_numerica = substituir_strings_por_numeros(linha, mapeamento)\n",
    "            arquivo_saida.write(linha_numerica)\n",
    "\n",
    "#conversão\n",
    "mapeamento_linha = {\n",
    "    'M': '1',\n",
    "    'B': '0'\n",
    "}\n",
    "arquivo_entrada = 'wdbc.data'\n",
    "arquivo_saida = 'wdbc_pre'\n",
    "\n",
    "converter_arquivo(arquivo_entrada, arquivo_saida, mapeamento_linha)\n"
   ]
  },
  {
   "cell_type": "code",
   "execution_count": 2,
   "id": "caaacd87-7765-43d1-b091-37119d0311d3",
   "metadata": {},
   "outputs": [],
   "source": [
    "def remove_ids(input_file, output_file):\n",
    "    with open(input_file, 'r') as infile, open(output_file, 'w') as outfile:\n",
    "        for line in infile:\n",
    "            # Split ID\n",
    "            parts = line.split(',', 1)\n",
    "            if len(parts) > 1:\n",
    "                outfile.write(parts[1])\n",
    "\n",
    "input_file = 'wdbc_pre'\n",
    "output_file = 'wdbc_normalizacao'\n",
    "\n",
    "remove_ids(input_file, output_file)\n"
   ]
  },
  {
   "cell_type": "code",
   "execution_count": 3,
   "id": "3f0f75a3-f519-483a-abe2-c88544abbe4d",
   "metadata": {},
   "outputs": [
    {
     "name": "stdout",
     "output_type": "stream",
     "text": [
      "{'0': 357, '1': 212}\n"
     ]
    },
    {
     "data": {
      "image/png": "[encoded data removed]",
      "text/plain": [
       "<Figure size 640x480 with 1 Axes>"
      ]
     },
     "metadata": {},
     "output_type": "display_data"
    }
   ],
   "source": [
    "import matplotlib.pyplot as plt\n",
    "\n",
    "def plotar_grafico_contagem(arquivo):\n",
    "    class_distribution_tumor = {'0': 0, '1': 0}\n",
    "    \n",
    "    total_linhas = 0\n",
    "    with open(arquivo, 'r') as file:\n",
    "        for linha in file:\n",
    "            # Pegando a classe\n",
    "            classes = linha.strip()[0]\n",
    "            if classes in class_distribution_tumor:\n",
    "                class_distribution_tumor[classes] += 1\n",
    "                total_linhas += 1\n",
    "\n",
    "    porcentagens = {k: (v / total_linhas) * 100 for k, v in class_distribution_tumor.items()}\n",
    "   \n",
    "    plt.bar(class_distribution_tumor.keys(), class_distribution_tumor.values(), color='blue')\n",
    "\n",
    "    plt.xlabel('class:( 0 = benigno, 1 = maligno)')\n",
    "    plt.ylabel('Nº Amostras')\n",
    "    plt.title('Diagnóstico Câncer de Mama')\n",
    "    print(class_distribution_tumor)\n",
    "    # Exibindo as porcentagens\n",
    "    for key, value in class_distribution_tumor.items():\n",
    "        plt.text(key, value + 0.5, f'{porcentagens[key]:.2f}%', ha='center')\n",
    "    plt.show()\n",
    "\n",
    "plotar_grafico_contagem('wdbc_normalizacao')"
   ]
  },
  {
   "cell_type": "code",
   "execution_count": 4,
   "id": "bc388763-d77e-469f-be70-00d4831c476b",
   "metadata": {},
   "outputs": [
    {
     "data": {
      "text/html": [
       "\n",
       "        <iframe\n",
       "            width=\"100%\"\n",
       "            height=\"475\"\n",
       "            src=\"http://BrennoPacheco:40000/dtale/iframe/1\"\n",
       "            frameborder=\"0\"\n",
       "            allowfullscreen\n",
       "            \n",
       "        ></iframe>\n",
       "        "
      ],
      "text/plain": [
       "<IPython.lib.display.IFrame at 0x1aa1f34a4b0>"
      ]
     },
     "metadata": {},
     "output_type": "display_data"
    },
    {
     "data": {
      "text/plain": []
     },
     "execution_count": 4,
     "metadata": {},
     "output_type": "execute_result"
    }
   ],
   "source": [
    "# Gráfico para correlação\n",
    "import dtale\n",
    "import pandas as pd\n",
    "df = pd.read_csv('wdbc_normalizacao', header=None)\n",
    "dtale.show(df)\n"
   ]
  }
 ],
 "metadata": {
  "kernelspec": {
   "display_name": "Python 3 (ipykernel)",
   "language": "python",
   "name": "python3"
  },
  "language_info": {
   "codemirror_mode": {
    "name": "ipython",
    "version": 3
   },
   "file_extension": ".py",
   "mimetype": "text/x-python",
   "name": "python",
   "nbconvert_exporter": "python",
   "pygments_lexer": "ipython3",
   "version": "3.12.7"
  }
 },
 "nbformat": 4,
 "nbformat_minor": 5
}
